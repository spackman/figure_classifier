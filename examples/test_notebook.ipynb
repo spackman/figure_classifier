{
 "cells": [
  {
   "cell_type": "code",
   "execution_count": 1,
   "metadata": {},
   "outputs": [
    {
     "name": "stdout",
     "output_type": "stream",
     "text": [
      "Obtaining file:///home/ispackman/scratch/zbinfigs\n",
      "  Installing build dependencies ... \u001b[?25ldone\n",
      "\u001b[?25h  Checking if build backend supports build_editable ... \u001b[?25ldone\n",
      "\u001b[?25h  Getting requirements to build editable ... \u001b[?25ldone\n",
      "\u001b[?25h  Installing backend dependencies ... \u001b[?25ldone\n",
      "\u001b[?25h  Preparing editable metadata (pyproject.toml) ... \u001b[?25ldone\n",
      "\u001b[?25hRequirement already satisfied: beautifulsoup4>=4.2.4 in /home/ispackman/scratch/.venv/lib/python3.12/site-packages (from zbinfigs==0.1.7) (4.12.3)\n",
      "Requirement already satisfied: marker-pdf>=1.1.0 in /home/ispackman/scratch/.venv/lib/python3.12/site-packages (from zbinfigs==0.1.7) (1.2.3)\n",
      "Requirement already satisfied: matplotlib>=3.7.1 in /home/ispackman/scratch/.venv/lib/python3.12/site-packages (from zbinfigs==0.1.7) (3.10.0)\n",
      "Requirement already satisfied: pandas>=2.2.3 in /home/ispackman/scratch/.venv/lib/python3.12/site-packages (from zbinfigs==0.1.7) (2.2.3)\n",
      "Requirement already satisfied: pillow>=10.4.0 in /home/ispackman/scratch/.venv/lib/python3.12/site-packages (from zbinfigs==0.1.7) (10.4.0)\n",
      "Requirement already satisfied: pypdf2>=3.0.1 in /home/ispackman/scratch/.venv/lib/python3.12/site-packages (from zbinfigs==0.1.7) (3.0.1)\n",
      "Requirement already satisfied: reportlab>=4.2.5 in /home/ispackman/scratch/.venv/lib/python3.12/site-packages (from zbinfigs==0.1.7) (4.2.5)\n",
      "Requirement already satisfied: tqdm>=4.67 in /home/ispackman/scratch/.venv/lib/python3.12/site-packages (from zbinfigs==0.1.7) (4.67.1)\n",
      "Requirement already satisfied: xhtml2pdf>=0.2.16 in /home/ispackman/scratch/.venv/lib/python3.12/site-packages (from zbinfigs==0.1.7) (0.2.16)\n",
      "Requirement already satisfied: soupsieve>1.2 in /home/ispackman/scratch/.venv/lib/python3.12/site-packages (from beautifulsoup4>=4.2.4->zbinfigs==0.1.7) (2.6)\n",
      "Requirement already satisfied: click<9.0.0,>=8.1.7 in /home/ispackman/scratch/.venv/lib/python3.12/site-packages (from marker-pdf>=1.1.0->zbinfigs==0.1.7) (8.1.8)\n",
      "Requirement already satisfied: ftfy<7.0.0,>=6.1.1 in /home/ispackman/scratch/.venv/lib/python3.12/site-packages (from marker-pdf>=1.1.0->zbinfigs==0.1.7) (6.3.1)\n",
      "Requirement already satisfied: google-generativeai<0.9.0,>=0.8.3 in /home/ispackman/scratch/.venv/lib/python3.12/site-packages (from marker-pdf>=1.1.0->zbinfigs==0.1.7) (0.8.3)\n",
      "Requirement already satisfied: markdown2<3.0.0,>=2.5.2 in /home/ispackman/scratch/.venv/lib/python3.12/site-packages (from marker-pdf>=1.1.0->zbinfigs==0.1.7) (2.5.2)\n",
      "Requirement already satisfied: markdownify<0.14.0,>=0.13.1 in /home/ispackman/scratch/.venv/lib/python3.12/site-packages (from marker-pdf>=1.1.0->zbinfigs==0.1.7) (0.13.1)\n",
      "Requirement already satisfied: pdftext<0.5.0,>=0.4.1 in /home/ispackman/scratch/.venv/lib/python3.12/site-packages (from marker-pdf>=1.1.0->zbinfigs==0.1.7) (0.4.1)\n",
      "Requirement already satisfied: pydantic<3.0.0,>=2.4.2 in /home/ispackman/scratch/.venv/lib/python3.12/site-packages (from marker-pdf>=1.1.0->zbinfigs==0.1.7) (2.10.5)\n",
      "Requirement already satisfied: pydantic-settings<3.0.0,>=2.0.3 in /home/ispackman/scratch/.venv/lib/python3.12/site-packages (from marker-pdf>=1.1.0->zbinfigs==0.1.7) (2.7.1)\n",
      "Requirement already satisfied: python-dotenv<2.0.0,>=1.0.0 in /home/ispackman/scratch/.venv/lib/python3.12/site-packages (from marker-pdf>=1.1.0->zbinfigs==0.1.7) (1.0.1)\n",
      "Requirement already satisfied: rapidfuzz<4.0.0,>=3.8.1 in /home/ispackman/scratch/.venv/lib/python3.12/site-packages (from marker-pdf>=1.1.0->zbinfigs==0.1.7) (3.11.0)\n",
      "Requirement already satisfied: regex<2025.0.0,>=2024.4.28 in /home/ispackman/scratch/.venv/lib/python3.12/site-packages (from marker-pdf>=1.1.0->zbinfigs==0.1.7) (2024.11.6)\n",
      "Requirement already satisfied: surya-ocr<0.9.0,>=0.8.3 in /home/ispackman/scratch/.venv/lib/python3.12/site-packages (from marker-pdf>=1.1.0->zbinfigs==0.1.7) (0.8.3)\n",
      "Requirement already satisfied: tabled-pdf<0.3.0,>=0.2.0 in /home/ispackman/scratch/.venv/lib/python3.12/site-packages (from marker-pdf>=1.1.0->zbinfigs==0.1.7) (0.2.0)\n",
      "Requirement already satisfied: tabulate<0.10.0,>=0.9.0 in /home/ispackman/scratch/.venv/lib/python3.12/site-packages (from marker-pdf>=1.1.0->zbinfigs==0.1.7) (0.9.0)\n",
      "Requirement already satisfied: texify<0.3.0,>=0.2.1 in /home/ispackman/scratch/.venv/lib/python3.12/site-packages (from marker-pdf>=1.1.0->zbinfigs==0.1.7) (0.2.1)\n",
      "Requirement already satisfied: torch<3.0.0,>=2.5.1 in /home/ispackman/scratch/.venv/lib/python3.12/site-packages (from marker-pdf>=1.1.0->zbinfigs==0.1.7) (2.5.1)\n",
      "Requirement already satisfied: transformers<5.0.0,>=4.45.2 in /home/ispackman/scratch/.venv/lib/python3.12/site-packages (from marker-pdf>=1.1.0->zbinfigs==0.1.7) (4.48.0)\n",
      "Requirement already satisfied: contourpy>=1.0.1 in /home/ispackman/scratch/.venv/lib/python3.12/site-packages (from matplotlib>=3.7.1->zbinfigs==0.1.7) (1.3.1)\n",
      "Requirement already satisfied: cycler>=0.10 in /home/ispackman/scratch/.venv/lib/python3.12/site-packages (from matplotlib>=3.7.1->zbinfigs==0.1.7) (0.12.1)\n",
      "Requirement already satisfied: fonttools>=4.22.0 in /home/ispackman/scratch/.venv/lib/python3.12/site-packages (from matplotlib>=3.7.1->zbinfigs==0.1.7) (4.55.3)\n",
      "Requirement already satisfied: kiwisolver>=1.3.1 in /home/ispackman/scratch/.venv/lib/python3.12/site-packages (from matplotlib>=3.7.1->zbinfigs==0.1.7) (1.4.8)\n",
      "Requirement already satisfied: numpy>=1.23 in /home/ispackman/scratch/.venv/lib/python3.12/site-packages (from matplotlib>=3.7.1->zbinfigs==0.1.7) (2.2.1)\n",
      "Requirement already satisfied: packaging>=20.0 in /home/ispackman/scratch/.venv/lib/python3.12/site-packages (from matplotlib>=3.7.1->zbinfigs==0.1.7) (24.2)\n",
      "Requirement already satisfied: pyparsing>=2.3.1 in /home/ispackman/scratch/.venv/lib/python3.12/site-packages (from matplotlib>=3.7.1->zbinfigs==0.1.7) (3.2.1)\n",
      "Requirement already satisfied: python-dateutil>=2.7 in /home/ispackman/scratch/.venv/lib/python3.12/site-packages (from matplotlib>=3.7.1->zbinfigs==0.1.7) (2.9.0.post0)\n",
      "Requirement already satisfied: pytz>=2020.1 in /home/ispackman/scratch/.venv/lib/python3.12/site-packages (from pandas>=2.2.3->zbinfigs==0.1.7) (2024.2)\n",
      "Requirement already satisfied: tzdata>=2022.7 in /home/ispackman/scratch/.venv/lib/python3.12/site-packages (from pandas>=2.2.3->zbinfigs==0.1.7) (2024.2)\n",
      "Requirement already satisfied: chardet in /home/ispackman/scratch/.venv/lib/python3.12/site-packages (from reportlab>=4.2.5->zbinfigs==0.1.7) (5.2.0)\n",
      "Requirement already satisfied: arabic-reshaper>=3.0.0 in /home/ispackman/scratch/.venv/lib/python3.12/site-packages (from xhtml2pdf>=0.2.16->zbinfigs==0.1.7) (3.0.0)\n",
      "Requirement already satisfied: html5lib>=1.1 in /home/ispackman/scratch/.venv/lib/python3.12/site-packages (from xhtml2pdf>=0.2.16->zbinfigs==0.1.7) (1.1)\n",
      "Requirement already satisfied: pyHanko>=0.12.1 in /home/ispackman/scratch/.venv/lib/python3.12/site-packages (from xhtml2pdf>=0.2.16->zbinfigs==0.1.7) (0.25.3)\n",
      "Requirement already satisfied: pyhanko-certvalidator>=0.19.5 in /home/ispackman/scratch/.venv/lib/python3.12/site-packages (from xhtml2pdf>=0.2.16->zbinfigs==0.1.7) (0.26.5)\n",
      "Requirement already satisfied: pypdf>=3.1.0 in /home/ispackman/scratch/.venv/lib/python3.12/site-packages (from xhtml2pdf>=0.2.16->zbinfigs==0.1.7) (5.1.0)\n",
      "Requirement already satisfied: python-bidi>=0.4.2 in /home/ispackman/scratch/.venv/lib/python3.12/site-packages (from xhtml2pdf>=0.2.16->zbinfigs==0.1.7) (0.6.3)\n",
      "Requirement already satisfied: svglib>=1.2.1 in /home/ispackman/scratch/.venv/lib/python3.12/site-packages (from xhtml2pdf>=0.2.16->zbinfigs==0.1.7) (1.5.1)\n",
      "Requirement already satisfied: wcwidth in /home/ispackman/scratch/.venv/lib/python3.12/site-packages (from ftfy<7.0.0,>=6.1.1->marker-pdf>=1.1.0->zbinfigs==0.1.7) (0.2.13)\n",
      "Requirement already satisfied: google-ai-generativelanguage==0.6.10 in /home/ispackman/scratch/.venv/lib/python3.12/site-packages (from google-generativeai<0.9.0,>=0.8.3->marker-pdf>=1.1.0->zbinfigs==0.1.7) (0.6.10)\n",
      "Requirement already satisfied: google-api-core in /home/ispackman/scratch/.venv/lib/python3.12/site-packages (from google-generativeai<0.9.0,>=0.8.3->marker-pdf>=1.1.0->zbinfigs==0.1.7) (2.24.0)\n",
      "Requirement already satisfied: google-api-python-client in /home/ispackman/scratch/.venv/lib/python3.12/site-packages (from google-generativeai<0.9.0,>=0.8.3->marker-pdf>=1.1.0->zbinfigs==0.1.7) (2.158.0)\n",
      "Requirement already satisfied: google-auth>=2.15.0 in /home/ispackman/scratch/.venv/lib/python3.12/site-packages (from google-generativeai<0.9.0,>=0.8.3->marker-pdf>=1.1.0->zbinfigs==0.1.7) (2.37.0)\n",
      "Requirement already satisfied: protobuf in /home/ispackman/scratch/.venv/lib/python3.12/site-packages (from google-generativeai<0.9.0,>=0.8.3->marker-pdf>=1.1.0->zbinfigs==0.1.7) (5.29.3)\n",
      "Requirement already satisfied: typing-extensions in /home/ispackman/scratch/.venv/lib/python3.12/site-packages (from google-generativeai<0.9.0,>=0.8.3->marker-pdf>=1.1.0->zbinfigs==0.1.7) (4.12.2)\n",
      "Requirement already satisfied: proto-plus<2.0.0dev,>=1.22.3 in /home/ispackman/scratch/.venv/lib/python3.12/site-packages (from google-ai-generativelanguage==0.6.10->google-generativeai<0.9.0,>=0.8.3->marker-pdf>=1.1.0->zbinfigs==0.1.7) (1.25.0)\n",
      "Requirement already satisfied: six>=1.9 in /home/ispackman/scratch/.venv/lib/python3.12/site-packages (from html5lib>=1.1->xhtml2pdf>=0.2.16->zbinfigs==0.1.7) (1.17.0)\n",
      "Requirement already satisfied: webencodings in /home/ispackman/scratch/.venv/lib/python3.12/site-packages (from html5lib>=1.1->xhtml2pdf>=0.2.16->zbinfigs==0.1.7) (0.5.1)\n",
      "Requirement already satisfied: pypdfium2==4.30.0 in /home/ispackman/scratch/.venv/lib/python3.12/site-packages (from pdftext<0.5.0,>=0.4.1->marker-pdf>=1.1.0->zbinfigs==0.1.7) (4.30.0)\n",
      "Requirement already satisfied: annotated-types>=0.6.0 in /home/ispackman/scratch/.venv/lib/python3.12/site-packages (from pydantic<3.0.0,>=2.4.2->marker-pdf>=1.1.0->zbinfigs==0.1.7) (0.7.0)\n",
      "Requirement already satisfied: pydantic-core==2.27.2 in /home/ispackman/scratch/.venv/lib/python3.12/site-packages (from pydantic<3.0.0,>=2.4.2->marker-pdf>=1.1.0->zbinfigs==0.1.7) (2.27.2)\n",
      "Requirement already satisfied: asn1crypto>=1.5.1 in /home/ispackman/scratch/.venv/lib/python3.12/site-packages (from pyHanko>=0.12.1->xhtml2pdf>=0.2.16->zbinfigs==0.1.7) (1.5.1)\n",
      "Requirement already satisfied: qrcode>=7.3.1 in /home/ispackman/scratch/.venv/lib/python3.12/site-packages (from pyHanko>=0.12.1->xhtml2pdf>=0.2.16->zbinfigs==0.1.7) (8.0)\n",
      "Requirement already satisfied: tzlocal>=4.3 in /home/ispackman/scratch/.venv/lib/python3.12/site-packages (from pyHanko>=0.12.1->xhtml2pdf>=0.2.16->zbinfigs==0.1.7) (5.2)\n",
      "Requirement already satisfied: requests>=2.31.0 in /home/ispackman/scratch/.venv/lib/python3.12/site-packages (from pyHanko>=0.12.1->xhtml2pdf>=0.2.16->zbinfigs==0.1.7) (2.32.3)\n",
      "Requirement already satisfied: pyyaml>=6.0 in /home/ispackman/scratch/.venv/lib/python3.12/site-packages (from pyHanko>=0.12.1->xhtml2pdf>=0.2.16->zbinfigs==0.1.7) (6.0.2)\n",
      "Requirement already satisfied: cryptography>=43.0.3 in /home/ispackman/scratch/.venv/lib/python3.12/site-packages (from pyHanko>=0.12.1->xhtml2pdf>=0.2.16->zbinfigs==0.1.7) (44.0.0)\n",
      "Requirement already satisfied: oscrypto>=1.1.0 in /home/ispackman/scratch/.venv/lib/python3.12/site-packages (from pyhanko-certvalidator>=0.19.5->xhtml2pdf>=0.2.16->zbinfigs==0.1.7) (1.3.0)\n",
      "Requirement already satisfied: uritools>=3.0.1 in /home/ispackman/scratch/.venv/lib/python3.12/site-packages (from pyhanko-certvalidator>=0.19.5->xhtml2pdf>=0.2.16->zbinfigs==0.1.7) (4.0.3)\n",
      "Requirement already satisfied: filetype<2.0.0,>=1.2.0 in /home/ispackman/scratch/.venv/lib/python3.12/site-packages (from surya-ocr<0.9.0,>=0.8.3->marker-pdf>=1.1.0->zbinfigs==0.1.7) (1.2.0)\n",
      "Requirement already satisfied: opencv-python<5.0.0.0,>=4.9.0.80 in /home/ispackman/scratch/.venv/lib/python3.12/site-packages (from surya-ocr<0.9.0,>=0.8.3->marker-pdf>=1.1.0->zbinfigs==0.1.7) (4.10.0.84)\n",
      "Requirement already satisfied: lxml in /home/ispackman/scratch/.venv/lib/python3.12/site-packages (from svglib>=1.2.1->xhtml2pdf>=0.2.16->zbinfigs==0.1.7) (5.3.0)\n",
      "Requirement already satisfied: tinycss2>=0.6.0 in /home/ispackman/scratch/.venv/lib/python3.12/site-packages (from svglib>=1.2.1->xhtml2pdf>=0.2.16->zbinfigs==0.1.7) (1.4.0)\n",
      "Requirement already satisfied: cssselect2>=0.2.0 in /home/ispackman/scratch/.venv/lib/python3.12/site-packages (from svglib>=1.2.1->xhtml2pdf>=0.2.16->zbinfigs==0.1.7) (0.7.0)\n",
      "Requirement already satisfied: scikit-learn<2.0.0,>=1.5.2 in /home/ispackman/scratch/.venv/lib/python3.12/site-packages (from tabled-pdf<0.3.0,>=0.2.0->marker-pdf>=1.1.0->zbinfigs==0.1.7) (1.6.1)\n",
      "Requirement already satisfied: filelock in /home/ispackman/scratch/.venv/lib/python3.12/site-packages (from torch<3.0.0,>=2.5.1->marker-pdf>=1.1.0->zbinfigs==0.1.7) (3.16.1)\n",
      "Requirement already satisfied: networkx in /home/ispackman/scratch/.venv/lib/python3.12/site-packages (from torch<3.0.0,>=2.5.1->marker-pdf>=1.1.0->zbinfigs==0.1.7) (3.4.2)\n",
      "Requirement already satisfied: jinja2 in /home/ispackman/scratch/.venv/lib/python3.12/site-packages (from torch<3.0.0,>=2.5.1->marker-pdf>=1.1.0->zbinfigs==0.1.7) (3.1.5)\n",
      "Requirement already satisfied: fsspec in /home/ispackman/scratch/.venv/lib/python3.12/site-packages (from torch<3.0.0,>=2.5.1->marker-pdf>=1.1.0->zbinfigs==0.1.7) (2024.12.0)\n",
      "Requirement already satisfied: nvidia-cuda-nvrtc-cu12==12.4.127 in /home/ispackman/scratch/.venv/lib/python3.12/site-packages (from torch<3.0.0,>=2.5.1->marker-pdf>=1.1.0->zbinfigs==0.1.7) (12.4.127)\n",
      "Requirement already satisfied: nvidia-cuda-runtime-cu12==12.4.127 in /home/ispackman/scratch/.venv/lib/python3.12/site-packages (from torch<3.0.0,>=2.5.1->marker-pdf>=1.1.0->zbinfigs==0.1.7) (12.4.127)\n",
      "Requirement already satisfied: nvidia-cuda-cupti-cu12==12.4.127 in /home/ispackman/scratch/.venv/lib/python3.12/site-packages (from torch<3.0.0,>=2.5.1->marker-pdf>=1.1.0->zbinfigs==0.1.7) (12.4.127)\n",
      "Requirement already satisfied: nvidia-cudnn-cu12==9.1.0.70 in /home/ispackman/scratch/.venv/lib/python3.12/site-packages (from torch<3.0.0,>=2.5.1->marker-pdf>=1.1.0->zbinfigs==0.1.7) (9.1.0.70)\n",
      "Requirement already satisfied: nvidia-cublas-cu12==12.4.5.8 in /home/ispackman/scratch/.venv/lib/python3.12/site-packages (from torch<3.0.0,>=2.5.1->marker-pdf>=1.1.0->zbinfigs==0.1.7) (12.4.5.8)\n",
      "Requirement already satisfied: nvidia-cufft-cu12==11.2.1.3 in /home/ispackman/scratch/.venv/lib/python3.12/site-packages (from torch<3.0.0,>=2.5.1->marker-pdf>=1.1.0->zbinfigs==0.1.7) (11.2.1.3)\n",
      "Requirement already satisfied: nvidia-curand-cu12==10.3.5.147 in /home/ispackman/scratch/.venv/lib/python3.12/site-packages (from torch<3.0.0,>=2.5.1->marker-pdf>=1.1.0->zbinfigs==0.1.7) (10.3.5.147)\n",
      "Requirement already satisfied: nvidia-cusolver-cu12==11.6.1.9 in /home/ispackman/scratch/.venv/lib/python3.12/site-packages (from torch<3.0.0,>=2.5.1->marker-pdf>=1.1.0->zbinfigs==0.1.7) (11.6.1.9)\n",
      "Requirement already satisfied: nvidia-cusparse-cu12==12.3.1.170 in /home/ispackman/scratch/.venv/lib/python3.12/site-packages (from torch<3.0.0,>=2.5.1->marker-pdf>=1.1.0->zbinfigs==0.1.7) (12.3.1.170)\n",
      "Requirement already satisfied: nvidia-nccl-cu12==2.21.5 in /home/ispackman/scratch/.venv/lib/python3.12/site-packages (from torch<3.0.0,>=2.5.1->marker-pdf>=1.1.0->zbinfigs==0.1.7) (2.21.5)\n",
      "Requirement already satisfied: nvidia-nvtx-cu12==12.4.127 in /home/ispackman/scratch/.venv/lib/python3.12/site-packages (from torch<3.0.0,>=2.5.1->marker-pdf>=1.1.0->zbinfigs==0.1.7) (12.4.127)\n",
      "Requirement already satisfied: nvidia-nvjitlink-cu12==12.4.127 in /home/ispackman/scratch/.venv/lib/python3.12/site-packages (from torch<3.0.0,>=2.5.1->marker-pdf>=1.1.0->zbinfigs==0.1.7) (12.4.127)\n",
      "Requirement already satisfied: triton==3.1.0 in /home/ispackman/scratch/.venv/lib/python3.12/site-packages (from torch<3.0.0,>=2.5.1->marker-pdf>=1.1.0->zbinfigs==0.1.7) (3.1.0)\n",
      "Requirement already satisfied: setuptools in /home/ispackman/scratch/.venv/lib/python3.12/site-packages (from torch<3.0.0,>=2.5.1->marker-pdf>=1.1.0->zbinfigs==0.1.7) (75.8.0)\n",
      "Requirement already satisfied: sympy==1.13.1 in /home/ispackman/scratch/.venv/lib/python3.12/site-packages (from torch<3.0.0,>=2.5.1->marker-pdf>=1.1.0->zbinfigs==0.1.7) (1.13.1)\n",
      "Requirement already satisfied: mpmath<1.4,>=1.1.0 in /home/ispackman/scratch/.venv/lib/python3.12/site-packages (from sympy==1.13.1->torch<3.0.0,>=2.5.1->marker-pdf>=1.1.0->zbinfigs==0.1.7) (1.3.0)\n",
      "Requirement already satisfied: huggingface-hub<1.0,>=0.24.0 in /home/ispackman/scratch/.venv/lib/python3.12/site-packages (from transformers<5.0.0,>=4.45.2->marker-pdf>=1.1.0->zbinfigs==0.1.7) (0.27.1)\n",
      "Requirement already satisfied: tokenizers<0.22,>=0.21 in /home/ispackman/scratch/.venv/lib/python3.12/site-packages (from transformers<5.0.0,>=4.45.2->marker-pdf>=1.1.0->zbinfigs==0.1.7) (0.21.0)\n",
      "Requirement already satisfied: safetensors>=0.4.1 in /home/ispackman/scratch/.venv/lib/python3.12/site-packages (from transformers<5.0.0,>=4.45.2->marker-pdf>=1.1.0->zbinfigs==0.1.7) (0.5.2)\n",
      "Requirement already satisfied: cffi>=1.12 in /home/ispackman/scratch/.venv/lib/python3.12/site-packages (from cryptography>=43.0.3->pyHanko>=0.12.1->xhtml2pdf>=0.2.16->zbinfigs==0.1.7) (1.17.1)\n",
      "Requirement already satisfied: googleapis-common-protos<2.0.dev0,>=1.56.2 in /home/ispackman/scratch/.venv/lib/python3.12/site-packages (from google-api-core->google-generativeai<0.9.0,>=0.8.3->marker-pdf>=1.1.0->zbinfigs==0.1.7) (1.66.0)\n",
      "Requirement already satisfied: cachetools<6.0,>=2.0.0 in /home/ispackman/scratch/.venv/lib/python3.12/site-packages (from google-auth>=2.15.0->google-generativeai<0.9.0,>=0.8.3->marker-pdf>=1.1.0->zbinfigs==0.1.7) (5.5.0)\n",
      "Requirement already satisfied: pyasn1-modules>=0.2.1 in /home/ispackman/scratch/.venv/lib/python3.12/site-packages (from google-auth>=2.15.0->google-generativeai<0.9.0,>=0.8.3->marker-pdf>=1.1.0->zbinfigs==0.1.7) (0.4.1)\n",
      "Requirement already satisfied: rsa<5,>=3.1.4 in /home/ispackman/scratch/.venv/lib/python3.12/site-packages (from google-auth>=2.15.0->google-generativeai<0.9.0,>=0.8.3->marker-pdf>=1.1.0->zbinfigs==0.1.7) (4.9)\n",
      "Requirement already satisfied: charset-normalizer<4,>=2 in /home/ispackman/scratch/.venv/lib/python3.12/site-packages (from requests>=2.31.0->pyHanko>=0.12.1->xhtml2pdf>=0.2.16->zbinfigs==0.1.7) (3.4.1)\n",
      "Requirement already satisfied: idna<4,>=2.5 in /home/ispackman/scratch/.venv/lib/python3.12/site-packages (from requests>=2.31.0->pyHanko>=0.12.1->xhtml2pdf>=0.2.16->zbinfigs==0.1.7) (3.10)\n",
      "Requirement already satisfied: urllib3<3,>=1.21.1 in /home/ispackman/scratch/.venv/lib/python3.12/site-packages (from requests>=2.31.0->pyHanko>=0.12.1->xhtml2pdf>=0.2.16->zbinfigs==0.1.7) (2.3.0)\n",
      "Requirement already satisfied: certifi>=2017.4.17 in /home/ispackman/scratch/.venv/lib/python3.12/site-packages (from requests>=2.31.0->pyHanko>=0.12.1->xhtml2pdf>=0.2.16->zbinfigs==0.1.7) (2024.12.14)\n",
      "Requirement already satisfied: scipy>=1.6.0 in /home/ispackman/scratch/.venv/lib/python3.12/site-packages (from scikit-learn<2.0.0,>=1.5.2->tabled-pdf<0.3.0,>=0.2.0->marker-pdf>=1.1.0->zbinfigs==0.1.7) (1.15.1)\n",
      "Requirement already satisfied: joblib>=1.2.0 in /home/ispackman/scratch/.venv/lib/python3.12/site-packages (from scikit-learn<2.0.0,>=1.5.2->tabled-pdf<0.3.0,>=0.2.0->marker-pdf>=1.1.0->zbinfigs==0.1.7) (1.4.2)\n",
      "Requirement already satisfied: threadpoolctl>=3.1.0 in /home/ispackman/scratch/.venv/lib/python3.12/site-packages (from scikit-learn<2.0.0,>=1.5.2->tabled-pdf<0.3.0,>=0.2.0->marker-pdf>=1.1.0->zbinfigs==0.1.7) (3.5.0)\n",
      "Requirement already satisfied: httplib2<1.dev0,>=0.19.0 in /home/ispackman/scratch/.venv/lib/python3.12/site-packages (from google-api-python-client->google-generativeai<0.9.0,>=0.8.3->marker-pdf>=1.1.0->zbinfigs==0.1.7) (0.22.0)\n",
      "Requirement already satisfied: google-auth-httplib2<1.0.0,>=0.2.0 in /home/ispackman/scratch/.venv/lib/python3.12/site-packages (from google-api-python-client->google-generativeai<0.9.0,>=0.8.3->marker-pdf>=1.1.0->zbinfigs==0.1.7) (0.2.0)\n",
      "Requirement already satisfied: uritemplate<5,>=3.0.1 in /home/ispackman/scratch/.venv/lib/python3.12/site-packages (from google-api-python-client->google-generativeai<0.9.0,>=0.8.3->marker-pdf>=1.1.0->zbinfigs==0.1.7) (4.1.1)\n",
      "Requirement already satisfied: MarkupSafe>=2.0 in /home/ispackman/scratch/.venv/lib/python3.12/site-packages (from jinja2->torch<3.0.0,>=2.5.1->marker-pdf>=1.1.0->zbinfigs==0.1.7) (3.0.2)\n",
      "Requirement already satisfied: pycparser in /home/ispackman/scratch/.venv/lib/python3.12/site-packages (from cffi>=1.12->cryptography>=43.0.3->pyHanko>=0.12.1->xhtml2pdf>=0.2.16->zbinfigs==0.1.7) (2.22)\n",
      "Requirement already satisfied: grpcio<2.0dev,>=1.33.2 in /home/ispackman/scratch/.venv/lib/python3.12/site-packages (from google-api-core[grpc]!=2.0.*,!=2.1.*,!=2.10.*,!=2.2.*,!=2.3.*,!=2.4.*,!=2.5.*,!=2.6.*,!=2.7.*,!=2.8.*,!=2.9.*,<3.0.0dev,>=1.34.1->google-ai-generativelanguage==0.6.10->google-generativeai<0.9.0,>=0.8.3->marker-pdf>=1.1.0->zbinfigs==0.1.7) (1.69.0)\n",
      "Requirement already satisfied: grpcio-status<2.0.dev0,>=1.33.2 in /home/ispackman/scratch/.venv/lib/python3.12/site-packages (from google-api-core[grpc]!=2.0.*,!=2.1.*,!=2.10.*,!=2.2.*,!=2.3.*,!=2.4.*,!=2.5.*,!=2.6.*,!=2.7.*,!=2.8.*,!=2.9.*,<3.0.0dev,>=1.34.1->google-ai-generativelanguage==0.6.10->google-generativeai<0.9.0,>=0.8.3->marker-pdf>=1.1.0->zbinfigs==0.1.7) (1.69.0)\n",
      "Requirement already satisfied: pyasn1<0.7.0,>=0.4.6 in /home/ispackman/scratch/.venv/lib/python3.12/site-packages (from pyasn1-modules>=0.2.1->google-auth>=2.15.0->google-generativeai<0.9.0,>=0.8.3->marker-pdf>=1.1.0->zbinfigs==0.1.7) (0.6.1)\n",
      "Building wheels for collected packages: zbinfigs\n",
      "  Building editable for zbinfigs (pyproject.toml) ... \u001b[?25ldone\n",
      "\u001b[?25h  Created wheel for zbinfigs: filename=zbinfigs-0.1.7-py3-none-any.whl size=4734 sha256=9c59cd3e280afb04a850872c93653c892d5c929685b4add07d8a2cc2cebb59e2\n",
      "  Stored in directory: /tmp/pip-ephem-wheel-cache-qf5me20s/wheels/34/5b/f9/b18efe1e2682164cf0517ae97fbe514a970f9ffeef1b3fd9d3\n",
      "Successfully built zbinfigs\n",
      "Installing collected packages: zbinfigs\n",
      "  Attempting uninstall: zbinfigs\n",
      "    Found existing installation: zbinfigs 0.1.7\n",
      "    Uninstalling zbinfigs-0.1.7:\n",
      "      Successfully uninstalled zbinfigs-0.1.7\n",
      "Successfully installed zbinfigs-0.1.7\n"
     ]
    }
   ],
   "source": [
    "!pip install -e ../."
   ]
  },
  {
   "cell_type": "code",
   "execution_count": 2,
   "metadata": {},
   "outputs": [],
   "source": [
    "import zbinfigs as zbf\n",
    "\n",
    "path = r\"test_zotero_collection.csv\"\n",
    "\n",
    "# read the collection into a collection object\n",
    "collection = zbf.read_collection(path)\n"
   ]
  },
  {
   "cell_type": "code",
   "execution_count": null,
   "metadata": {},
   "outputs": [],
   "source": [
    "# export the collection .pdfs to a common folder\n",
    "collection.export_pdfs_to_folder(folder=\"mypdfs\")"
   ]
  },
  {
   "cell_type": "code",
   "execution_count": null,
   "metadata": {},
   "outputs": [],
   "source": [
    "# read the pdfs in the range selected and convert to markdown + extract images\n",
    "# the result is a folder for each .pdf -> THERE SHOULD BE A MECHANISM TO SHOW IF NO FIGURES WERE EXTRACTED\n",
    "zbf.process_pdf_folder(pdfs_folder=\"mypdfs\", file_range=(2, 6))"
   ]
  },
  {
   "cell_type": "code",
   "execution_count": 3,
   "metadata": {},
   "outputs": [
    {
     "name": "stderr",
     "output_type": "stream",
     "text": [
      "2025-01-12 17:48:42,020 - INFO - Processing folders: ['mypdfs/88NPEABZ', 'mypdfs/943ET5GN', 'mypdfs/FCAXR8L3']\n",
      "Gathering PDF images: 100%|██████████| 3/3 [00:00<00:00, 3304.34folder/s]\n",
      "2025-01-12 17:48:42,572 - INFO - Successfully gathered figures into a single PDF and exported page ranges.\n",
      "2025-01-12 17:48:42,573 - INFO - Processing folders: ['mypdfs/H4KJMJGL', 'mypdfs/RE9DHFW6']\n",
      "Gathering PDF images: 100%|██████████| 2/2 [00:00<00:00, 3194.44folder/s]\n",
      "2025-01-12 17:48:43,330 - INFO - Successfully gathered figures into a single PDF and exported page ranges.\n",
      "2025-01-12 17:48:43,331 - INFO - Processing folders: ['mypdfs/RU3WXEZP', 'mypdfs/Z7Z8UGAW']\n",
      "Gathering PDF images: 100%|██████████| 2/2 [00:00<00:00, 7760.04folder/s]\n",
      "2025-01-12 17:48:43,496 - INFO - Successfully gathered figures into a single PDF and exported page ranges.\n"
     ]
    }
   ],
   "source": [
    "# locate the image files for the .pdfs in the range selected and merge into a single .pdf\n",
    "# export the page ranges for each record to a .csv\n",
    "\n",
    "# edit gather figures to also include the total number of pages in the original file\n",
    "zbf.gather_figures(pdfs_folder=\"mypdfs\", file_range=(0, 2))\n",
    "zbf.gather_figures(pdfs_folder=\"mypdfs\", file_range=(3, 4))\n",
    "zbf.gather_figures(pdfs_folder=\"mypdfs\", file_range=(5, 6))"
   ]
  },
  {
   "cell_type": "code",
   "execution_count": 4,
   "metadata": {},
   "outputs": [
    {
     "name": "stderr",
     "output_type": "stream",
     "text": [
      "Merging PDFs: 100%|██████████| 3/3 [00:00<00:00, 54.60file/s]\n",
      "Merging CSVs: 100%|██████████| 3/3 [00:00<00:00, 353.36file/s]"
     ]
    },
    {
     "name": "stdout",
     "output_type": "stream",
     "text": [
      "Merged PDF saved as: mypdfs/figure_summary.pdf\n",
      "Updated CSV saved as: mypdfs/figure_summary.csv\n"
     ]
    },
    {
     "name": "stderr",
     "output_type": "stream",
     "text": [
      "\n"
     ]
    }
   ],
   "source": [
    "# merge pdfs into a single document and make an updated page range .csv file\n",
    "# this knows to look for the .csv page number metadata\n",
    "zbf.merge_summary_pdfs(pdfs_folder=\"mypdfs\")"
   ]
  },
  {
   "cell_type": "code",
   "execution_count": null,
   "metadata": {},
   "outputs": [],
   "source": [
    "# locate the raw images based on their annotations and sort into folders accordingly\n",
    "# this expects a summary pdf .csv of page range data to match with\n",
    "zbf.sort_annotated(folder_name=\"mypdfs\", annotations=\"myannotations.csv\")\n",
    "\n",
    "# add annotations to the main .csv\n",
    "zbf.add_annotations(collection=\"mycollection.csv\", \n",
    "                    annotations=\"myannotations.csv\", \n",
    "                    outfile=\"myannotatedcollection.csv\")\n",
    "\n",
    "collection = zbf.read_collection(\"myannotatedcollection.csv\")\n",
    "\n",
    "# make a pie chart of the total number of records\n",
    "# sections for .html files and .pdf files available\n",
    "collection.plot_pdfs_available(type=\"bar\", x=\"year\")\n",
    "collection.plot_pdfs_available(type=\"pie\")\n",
    "\n",
    "\n",
    "# make a pie chart of the total number of records analyzed\n",
    "# sections for each annotation condition\n",
    "collection.plot_annotations(type=\"bar\", x=\"year\")\n",
    "collection.plot_annotations(type=\"pie\")\n",
    "\n",
    "# make a plot of the annotation type v. the document processed\n",
    "collection.plot_annotations(type=\"bar\", x=\"pdf_html\")"
   ]
  }
 ],
 "metadata": {
  "kernelspec": {
   "display_name": ".venv",
   "language": "python",
   "name": "python3"
  },
  "language_info": {
   "codemirror_mode": {
    "name": "ipython",
    "version": 3
   },
   "file_extension": ".py",
   "mimetype": "text/x-python",
   "name": "python",
   "nbconvert_exporter": "python",
   "pygments_lexer": "ipython3",
   "version": "3.12.4"
  }
 },
 "nbformat": 4,
 "nbformat_minor": 2
}

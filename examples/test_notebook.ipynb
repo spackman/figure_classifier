{
 "cells": [
  {
   "cell_type": "code",
   "execution_count": 1,
   "metadata": {},
   "outputs": [
    {
     "ename": "AttributeError",
     "evalue": "module 'zbinfigs' has no attribute 'read_collection'",
     "output_type": "error",
     "traceback": [
      "\u001b[1;31m---------------------------------------------------------------------------\u001b[0m",
      "\u001b[1;31mAttributeError\u001b[0m                            Traceback (most recent call last)",
      "Cell \u001b[1;32mIn[1], line 6\u001b[0m\n\u001b[0;32m      3\u001b[0m path \u001b[38;5;241m=\u001b[39m \u001b[38;5;124mr\u001b[39m\u001b[38;5;124m\"\u001b[39m\u001b[38;5;124mC:\u001b[39m\u001b[38;5;124m\\\u001b[39m\u001b[38;5;124mUsers\u001b[39m\u001b[38;5;124m\\\u001b[39m\u001b[38;5;124misaac\u001b[39m\u001b[38;5;124m\\\u001b[39m\u001b[38;5;124mOneDrive - Colorado School of Mines\u001b[39m\u001b[38;5;124m\\\u001b[39m\u001b[38;5;124mDesktop\u001b[39m\u001b[38;5;124m\\\u001b[39m\u001b[38;5;124mresearch\u001b[39m\u001b[38;5;124m\\\u001b[39m\u001b[38;5;124mtest_zotero.csv\u001b[39m\u001b[38;5;124m\"\u001b[39m\n\u001b[0;32m      5\u001b[0m \u001b[38;5;66;03m# read the collection into a collection object\u001b[39;00m\n\u001b[1;32m----> 6\u001b[0m collection \u001b[38;5;241m=\u001b[39m \u001b[43mzbf\u001b[49m\u001b[38;5;241;43m.\u001b[39;49m\u001b[43mread_collection\u001b[49m(path)\n",
      "\u001b[1;31mAttributeError\u001b[0m: module 'zbinfigs' has no attribute 'read_collection'"
     ]
    }
   ],
   "source": [
    "import zbinfigs as zbf\n",
    "\n",
    "path = r\"C:\\Users\\isaac\\OneDrive - Colorado School of Mines\\Desktop\\research\\test_zotero.csv\"\n",
    "\n",
    "# read the collection into a collection object\n",
    "collection = zbf.read_collection(path)\n"
   ]
  },
  {
   "cell_type": "code",
   "execution_count": null,
   "metadata": {},
   "outputs": [],
   "source": [
    "\n",
    "# export the collection .pdfs to a common folder\n",
    "collection.export_pdfs_to_folder(folder_name=\"mypdfs\")\n",
    "\n",
    "# read the pdfs in the range selected and convert to markdown + extract images\n",
    "# the result is a folder for each .pdf -> THERE SHOULD BE A MECHANISM TO SHOW IF NO FIGURES WERE EXTRACTED\n",
    "zbf.process_pdf_folder(folder_name=\"mypdfs\", range=(0, 2))\n",
    "\n",
    "# locate the image files for the .pdfs in the range selected and merge into a single .pdf\n",
    "# export the page ranges for each record to a .csv\n",
    "zbf.gather_figures(folder_name=\"mypdfs\", range=(rmin, rmax))\n",
    "\n",
    "# merge pdfs into a single document and make an updated page range .csv file\n",
    "# this knows to look for the .csv page number metadata\n",
    "zbf.merge_summary_pdfs(folder_name=\"mypdfs\")\n",
    "\n",
    "# locate the raw images based on their annotations and sort into folders accordingly\n",
    "# this expects a summary pdf .csv of page range data to match with\n",
    "zbf.sort_annotated(folder_name=\"mypdfs\", annotations=\"myannotations.csv\")\n",
    "\n",
    "# add annotations to the main .csv\n",
    "zbf.add_annotations(collection=\"mycollection.csv\", \n",
    "                    annotations=\"myannotations.csv\", \n",
    "                    outfile=\"myannotatedcollection.csv\")\n",
    "\n",
    "collection = zbf.read_collection(\"myannotatedcollection.csv\")\n",
    "\n",
    "# make a pie chart of the total number of records\n",
    "# sections for .html files and .pdf files available\n",
    "collection.plot_pdfs_available(type=\"bar\", x=\"year\")\n",
    "collection.plot_pdfs_available(type=\"pie\")\n",
    "\n",
    "\n",
    "# make a pie chart of the total number of records analyzed\n",
    "# sections for each annotation condition\n",
    "collection.plot_annotations(type=\"bar\", x=\"year\")\n",
    "collection.plot_annotations(type=\"pie\")\n",
    "\n",
    "# make a plot of the annotation type v. the document processed\n",
    "collection.plot_annotations(type=\"bar\", x=\"pdf_html\")"
   ]
  }
 ],
 "metadata": {
  "kernelspec": {
   "display_name": "zbinfigs",
   "language": "python",
   "name": "python3"
  },
  "language_info": {
   "codemirror_mode": {
    "name": "ipython",
    "version": 3
   },
   "file_extension": ".py",
   "mimetype": "text/x-python",
   "name": "python",
   "nbconvert_exporter": "python",
   "pygments_lexer": "ipython3",
   "version": "3.13.1"
  }
 },
 "nbformat": 4,
 "nbformat_minor": 2
}
